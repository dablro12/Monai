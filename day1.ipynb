{
  "nbformat": 4,
  "nbformat_minor": 0,
  "metadata": {
    "colab": {
      "provenance": [],
      "authorship_tag": "ABX9TyM1dE0bbHTHfDKlly7y9OxS",
      "include_colab_link": true
    },
    "kernelspec": {
      "name": "python3",
      "display_name": "Python 3"
    },
    "language_info": {
      "name": "python"
    },
    "accelerator": "GPU",
    "gpuClass": "standard"
  },
  "cells": [
    {
      "cell_type": "markdown",
      "metadata": {
        "id": "view-in-github",
        "colab_type": "text"
      },
      "source": [
        "<a href=\"https://colab.research.google.com/github/dablro12/Monai/blob/main/day1.ipynb\" target=\"_parent\"><img src=\"https://colab.research.google.com/assets/colab-badge.svg\" alt=\"Open In Colab\"/></a>"
      ]
    },
    {
      "cell_type": "markdown",
      "source": [
        "# 1일차\n",
        "Bootcamp의 첫째 날은 MONAI의 핵심에 집중합니다. 변환, 데이터 세트, 캐싱 및 레이어로 시작하여 일반적인 종단 간 워크플로 및 GPU 가속 성능으로 마무리합니다."
      ],
      "metadata": {
        "id": "c8av2Ba1c9sb"
      }
    },
    {
      "cell_type": "markdown",
      "source": [
        "## 설치환경 구축"
      ],
      "metadata": {
        "id": "zTImb7nJeVAI"
      }
    },
    {
      "cell_type": "markdown",
      "source": [
        "1. 코랩 실행을 위해 필요한 패키지 설치하기 -> 앞에 환경 설정대로 하면 됨 "
      ],
      "metadata": {
        "id": "b7rbl4ZidpIT"
      }
    },
    {
      "cell_type": "code",
      "execution_count": 2,
      "metadata": {
        "colab": {
          "base_uri": "https://localhost:8080/"
        },
        "id": "WWFBb-g9c8-n",
        "outputId": "da49a7a8-bf30-483c-9641-a3777ab86c15"
      },
      "outputs": [
        {
          "output_type": "stream",
          "name": "stdout",
          "text": [
            "\u001b[2K     \u001b[90m━━━━━━━━━━━━━━━━━━━━━━━━━━━━━━━━━━━━━━\u001b[0m \u001b[32m584.8/584.8 KB\u001b[0m \u001b[31m11.8 MB/s\u001b[0m eta \u001b[36m0:00:00\u001b[0m\n",
            "\u001b[2K     \u001b[90m━━━━━━━━━━━━━━━━━━━━━━━━━━━━━━━━━━━━━━\u001b[0m \u001b[32m221.6/221.6 KB\u001b[0m \u001b[31m27.5 MB/s\u001b[0m eta \u001b[36m0:00:00\u001b[0m\n",
            "\u001b[?25h"
          ]
        }
      ],
      "source": [
        "!pip install -qU \"monai[ignite, nibabel, torchvision, tqdm]==0.6.0\""
      ]
    },
    {
      "cell_type": "code",
      "source": [
        "!nvidia-smi #상태확인"
      ],
      "metadata": {
        "colab": {
          "base_uri": "https://localhost:8080/"
        },
        "id": "KntQ0UpFdxio",
        "outputId": "3496526b-6cbe-48c1-db47-086be34d4785"
      },
      "execution_count": 3,
      "outputs": [
        {
          "output_type": "stream",
          "name": "stdout",
          "text": [
            "Mon Jan 16 07:27:42 2023       \n",
            "+-----------------------------------------------------------------------------+\n",
            "| NVIDIA-SMI 460.32.03    Driver Version: 460.32.03    CUDA Version: 11.2     |\n",
            "|-------------------------------+----------------------+----------------------+\n",
            "| GPU  Name        Persistence-M| Bus-Id        Disp.A | Volatile Uncorr. ECC |\n",
            "| Fan  Temp  Perf  Pwr:Usage/Cap|         Memory-Usage | GPU-Util  Compute M. |\n",
            "|                               |                      |               MIG M. |\n",
            "|===============================+======================+======================|\n",
            "|   0  Tesla T4            Off  | 00000000:00:04.0 Off |                    0 |\n",
            "| N/A   45C    P8     9W /  70W |      0MiB / 15109MiB |      0%      Default |\n",
            "|                               |                      |                  N/A |\n",
            "+-------------------------------+----------------------+----------------------+\n",
            "                                                                               \n",
            "+-----------------------------------------------------------------------------+\n",
            "| Processes:                                                                  |\n",
            "|  GPU   GI   CI        PID   Type   Process name                  GPU Memory |\n",
            "|        ID   ID                                                   Usage      |\n",
            "|=============================================================================|\n",
            "|  No running processes found                                                 |\n",
            "+-----------------------------------------------------------------------------+\n"
          ]
        }
      ]
    },
    {
      "cell_type": "markdown",
      "source": [
        "## Monai 시작하기"
      ],
      "metadata": {
        "id": "oXse8SF1eQs1"
      }
    },
    {
      "cell_type": "markdown",
      "source": [
        "### 1. Monai 프레임워크에 대한 이야기 \n",
        "* Monai는 pytorch기반 헬스케어 이미지를 위한 딥러닝 오픈 소스 프레임워크임.  \n",
        "* Monai는 nifti, dicom같은 데이터 포맷에 적용될 수 있음.\n",
        "\n",
        "\n",
        "### 2. Monai Architecture\n",
        "Monai는 유연하고, 가벼운 API에 다양한 기능을 제공한다. pytorch 프로그램에 존재하는 독립적인 모듈의 요소를 이용해 모나이를 더욱 빠르게 실행할 수 있게 한다. \n",
        "* 아래는 monai가 실제로 사용하는 분야에 대해 그림으로 확인 할 수 있다.\n",
        "\n",
        "[링크 텍스트](https://raw.githubusercontent.com/Project-MONAI/MONAIBootcamp2021/2f28b64f814a03703667c8ea18cc84f53d6795e4/day1/arch_modules_v0.4.png)\n",
        "\n"
      ],
      "metadata": {
        "id": "BCwy0bElev36"
      }
    },
    {
      "cell_type": "markdown",
      "source": [
        "### 3. Monai Transform\n",
        "5가지 질문을 통해 Monai transform에 대한 이해를 할 수 있으면 좋겠다. \n",
        "1. What transforms are available to help create a data pipeline for training?\n",
        "2. What are array transforms?\n",
        "3. What is required to write a custom transform?\n",
        "4. What are dictionary transforms?\n",
        "5. How do I create a basic MONAI dataset with transforms?"
      ],
      "metadata": {
        "id": "Un7xGev7i6Ll"
      }
    },
    {
      "cell_type": "markdown",
      "source": [
        "##실습. 필요한 모듈과 라이브러리 함수들을 다 가지고 와 보자. 아래에는 monai의 다양한 모듈들이다."
      ],
      "metadata": {
        "id": "X278dKCnjLvz"
      }
    },
    {
      "cell_type": "code",
      "source": [
        "import tempfile\n",
        "import nibabel as nib\n",
        "import numpy as np\n",
        "import matplotlib.pyplot as plt\n",
        "from typing import Optional, Any, Mapping, Hashable\n",
        "\n",
        "#아래부터 monai의 라이브러리들\n",
        "import monai\n",
        "from monai.config import print_config\n",
        "from monai.utils import first\n",
        "from monai.config import KeysCollection\n",
        "from monai.data import Dataset, ArrayDataset, create_test_image_3d, DataLoader\n",
        "from monai.transforms import (\n",
        "    Transform,\n",
        "    MapTransform,\n",
        "    Randomizable,\n",
        "    AddChannel,\n",
        "    AddChanneld,\n",
        "    Compose,\n",
        "    LoadImage,\n",
        "    LoadImaged,\n",
        "    Lambda,\n",
        "    Lambdad,\n",
        "    RandSpatialCrop,\n",
        "    RandSpatialCropd,\n",
        "    ToTensor,\n",
        "    ToTensord,\n",
        "    Orientation, \n",
        "    Rotate\n",
        ")\n",
        "print_config()\n"
      ],
      "metadata": {
        "colab": {
          "base_uri": "https://localhost:8080/"
        },
        "id": "dprXfiWjd3-c",
        "outputId": "00293a99-a412-4c5a-a600-41083ef73c9c"
      },
      "execution_count": 4,
      "outputs": [
        {
          "output_type": "stream",
          "name": "stdout",
          "text": [
            "MONAI version: 0.6.0\n",
            "Numpy version: 1.21.6\n",
            "Pytorch version: 1.13.0+cu116\n",
            "MONAI flags: HAS_EXT = False, USE_COMPILED = False\n",
            "MONAI rev id: 0ad9e73639e30f4f1af5a1f4a45da9cb09930179\n",
            "\n",
            "Optional dependencies:\n",
            "Pytorch Ignite version: 0.4.5\n",
            "Nibabel version: 3.0.2\n",
            "scikit-image version: 0.18.3\n",
            "Pillow version: 7.1.2\n",
            "Tensorboard version: 2.9.1\n",
            "gdown version: 4.4.0\n",
            "TorchVision version: 0.14.0+cu116\n",
            "ITK version: NOT INSTALLED or UNKNOWN VERSION.\n",
            "tqdm version: 4.64.1\n",
            "lmdb version: 0.99\n",
            "psutil version: 5.4.8\n",
            "pandas version: 1.3.5\n",
            "einops version: NOT INSTALLED or UNKNOWN VERSION.\n",
            "\n",
            "For details about installing the optional dependencies, please visit:\n",
            "    https://docs.monai.io/en/latest/installation.html#installing-the-recommended-dependencies\n",
            "\n"
          ]
        }
      ]
    },
    {
      "cell_type": "markdown",
      "source": [
        "### Q1. What transforms are available to help create a data pipeline for training?\n",
        "학습 데이터 파이프라인을 만들기 위한 formation은 무엇이 있나? \n",
        "\n",
        "-1) Medical image data I/O, processing and augmentation\n",
        "\n",
        "의료용 이미지는 I/O, Preprocessing, Augmentation에 대한 특별한 방법이 요구된다. 의료용 이미지는 rich meta 정보에 대한 format이 존재하는데 이 데이타는 고차원 (N차원)의 데이터를 가지고 있다. Monai 중심의 의료용 미지니는 강력하고 유연하게 각 신체 기능에 따라 이미지를 변환하고 파이프라인을 형성시킬 수 있는 장점이 있다.\n",
        "\n",
        "-2) Transforms support both Dictionary and Array format data\n",
        "\n",
        "* 딕셔너리와 배열 포맷 데이터에 대한 형태 = pandas의 df와 비슷한 형태\n",
        "* 범용적으로 사용하는 vision package는 보통 2D Array가 많지만 Monai는 2D/3D를 다 지원하고, 형태에 대한 유연한 특징을 가지고 있음.\n",
        "* 의료용 이미지 전처리(preprocessing)는 추가적인 parameter가 필요할 수 있지만, Monai는 파이썬 딕셔너리에 있는 encapsulated Input Data를 parameter로 공급한다.\n",
        "* 사용자는 이미지에 대한 많은 셋(Crop & Pad, Intensity, IO, Post-processing, Spatial, and Utilities)을 이용해 활용할 수 있다는 장점을 가지고 있다. \n",
        "\n",
        "-3) Medical specific transforms\n",
        "\n",
        "모나이는 다양한 이미지 포맷을 지원한다. 아래 형태의 포맷을 지원하는지 확인할 수 있다.\n",
        "- LoadImage: Load medical specific formats file from provided path\n",
        "- Spacing: Resample input image into the specified pixdim\n",
        "- Orientation: Change the image’s orientation into the specified axcodes\n",
        "- RandGaussianNoise: Perturb image intensities by adding statistical noises\n",
        "- NormalizeIntensity: Intensity Normalization based on mean and standard deviation\n",
        "- Affine: Transform image based on the affine parameters\n",
        "- Rand2DElastic: Random elastic deformation and affine in 2D\n",
        "- Rand3DElastic: Random elastic deformation and affine in 3D\n",
        "\n",
        "\n",
        " "
      ],
      "metadata": {
        "id": "RmKpd29Js9Bp"
      }
    },
    {
      "cell_type": "markdown",
      "source": [
        "먼저 우리는 임시 디렉토리를 하나 만들고, 이 디렉토리 내에 몇가지의 예제 Nifti 파일 포맷의 형태를 가지고 올 것이다.\n",
        "또한 segmentation 페어를 만들자. \n",
        "\n",
        "아래에는 nibabel file 만들고 저장하는 방법 \n",
        "[링크 텍스트](https://kimtaeuk0103.tistory.com/36https://)"
      ],
      "metadata": {
        "id": "MMXk9s1eyP30"
      }
    },
    {
      "cell_type": "code",
      "source": [
        "fn_keys = (\"image\", \"seg\") #filename keys 이미지와 seg files \n",
        "\n",
        "root_dir = tempfile.mkdtemp() #디렉토리를 하나 만듬\n",
        "filenames = [] \n",
        "for i in range(5): #안에 5개 만들 예정\n",
        "  im, seg =create_test_image_3d(256,256,256, num_objs =25, rad_max = 50)\n",
        "  #im와 seg를 3차원으로 만들기 \n",
        "  \n",
        "  #총 5개의 im, seg 파일을 만들것\n",
        "  im_filename = f\"{root_dir}/im{i}.nii.gz\"\n",
        "  seg_filename = f\"{root_dir}/seg{i}.nii.gz\"\n",
        "  filenames.append({\"img\" : im_filename, \"seg\" : seg_filename})\n",
        "  #파일이름을 각각 만들어주고\n",
        "  #nib.Nifti1Image(불러온 파일, 아핀변환) :\n",
        "  n = nib.Nifti1Image(im, np.eye(4)) #4x4 정방행렬로 대각(\\)에 1의 값을 가짐 \n",
        "  nib.save(n, im_filename) #n이라는 파일을 im_filename과 같게 저장 \n",
        "  \n",
        "  n = nib.Nifti1Image(seg, np.eye(4))\n",
        "  nib.save(n, seg_filename)"
      ],
      "metadata": {
        "id": "pAtnVfl3sa8F"
      },
      "execution_count": 13,
      "outputs": []
    },
    {
      "cell_type": "markdown",
      "source": [
        "### Q2. What are array transforms?\n",
        "\n",
        "Monai 이미지들은 초기데이터로 부터 불러온 input으로부터 처리된 이미지다. \n",
        "다른 구조나 시스템 셋업없이 이미지를 만들 수 있다는 것이 장점.\n",
        "\n",
        "특히 **compose** 메소드를 통해 operations seq을 만들 수 있다. "
      ],
      "metadata": {
        "id": "nPfBeXi11olP"
      }
    },
    {
      "cell_type": "code",
      "source": [
        "trans = Compose([LoadImage(image_only = True), AddChannel(), ToTensor()])\n",
        "img = trans(filenames[0][\"img\"]) #trans 함수 \n",
        "print(type(img)) # # img : pytorch에 Tensor 타입,  \n",
        "print(img.shape) #  img는 256*256*256 3차원 배열\n",
        "print(img.get_device()) # -1\n",
        " "
      ],
      "metadata": {
        "colab": {
          "base_uri": "https://localhost:8080/"
        },
        "id": "aGZcC91-zWba",
        "outputId": "737da1ed-a21c-445a-d2de-85fb7b781d2d"
      },
      "execution_count": 18,
      "outputs": [
        {
          "output_type": "stream",
          "name": "stdout",
          "text": [
            "<class 'torch.Tensor'>\n",
            "torch.Size([1, 256, 256, 256])\n",
            "-1\n"
          ]
        }
      ]
    },
    {
      "cell_type": "markdown",
      "source": [
        "### Q3. How do I create a custom transform?\n",
        "이미지 형태를 커스터마이징 하는 법 : Lamda() method 이용 \n",
        "\n",
        "Lambda 함수를 이용해 람다 형식으로 만들 수 있다.  #자세한 람다 함수 사용법은 아래의 링크로 확인.\n",
        "[링크 텍스트](https://wikidocs.net/64)\n",
        "\n",
        "ex) 두 수를 더하는 함수 lambda로 한 줄로 코드 끝내기\n",
        "(lambda x,y : x+y)(10,20) -> 30 \n",
        "\n",
        "**우리는 1차원 이미지를 2D 이미지로 바꾸기 위해 Lambda 함수를 이용해 형태를 변환시킬것** "
      ],
      "metadata": {
        "id": "ugy3zepP5z0D"
      }
    },
    {
      "cell_type": "code",
      "source": [
        "def sum_width(img):\n",
        "  return img.sum(1) #이미지를 1로 다 처리 \n",
        "\n",
        "#trans함수 정의\n",
        "trans = Compose([LoadImage(image_only = True), AddChannel(), Lambda(sum_width)]) \n",
        "img = trans(filenames[0][\"img\"]) #배열을 img형식으로 변환 \n",
        "plt.imshow(img[0]) #img를 plot해서 보여줌 256* 256사이즈에서 보여줌"
      ],
      "metadata": {
        "colab": {
          "base_uri": "https://localhost:8080/",
          "height": 287
        },
        "id": "4iOEADWF2qVf",
        "outputId": "9c46befe-75c3-466f-f195-89b1f81b3827"
      },
      "execution_count": 34,
      "outputs": [
        {
          "output_type": "execute_result",
          "data": {
            "text/plain": [
              "<matplotlib.image.AxesImage at 0x7fa9678c5640>"
            ]
          },
          "metadata": {},
          "execution_count": 34
        },
        {
          "output_type": "display_data",
          "data": {
            "text/plain": [
              "<Figure size 432x288 with 1 Axes>"
            ],
            "image/png": "[encoded data removed]"
          },
          "metadata": {
            "needs_background": "light"
          }
        }
      ]
    },
    {
      "cell_type": "markdown",
      "source": [
        "transform의 하위 클래스(= 서브 클래스)를 만드는 것은 두번쨰 일이다. 이것은 instantiated object를 정의할 수 있도록 해준다. 아래를 통해 선택한 차원을 더해서 서브 클래스를 만들어 보자.\n",
        "2차원으로 합해 사용해 보자."
      ],
      "metadata": {
        "id": "uS0Ky0nE8clj"
      }
    },
    {
      "cell_type": "code",
      "source": [
        "class SumDimension(Transform): #서브 클래스 만드는 함수\n",
        "  def __init__(self, dim=1): #2차원을 1차원으로 바꿔줌 \n",
        "    self.dim = dim \n",
        "  \n",
        "  def __call__(self, inputs):\n",
        "    return inputs.sum(self.dim)\n",
        "\n",
        "trans = Compose([LoadImage(image_only=True), AddChannel(), SumDimension(2)])\n",
        "img = trans(filenames[0][\"img\"]) \n",
        "plt.imshow(img[0])"
      ],
      "metadata": {
        "colab": {
          "base_uri": "https://localhost:8080/",
          "height": 287
        },
        "id": "02KCIjir7MqU",
        "outputId": "f86df541-26c7-43c1-b1a4-619ede2a1b7e"
      },
      "execution_count": 35,
      "outputs": [
        {
          "output_type": "execute_result",
          "data": {
            "text/plain": [
              "<matplotlib.image.AxesImage at 0x7fa96784e7f0>"
            ]
          },
          "metadata": {},
          "execution_count": 35
        },
        {
          "output_type": "display_data",
          "data": {
            "text/plain": [
              "<Figure size 432x288 with 1 Axes>"
            ],
            "image/png": "[encoded data removed]"
          },
          "metadata": {
            "needs_background": "light"
          }
        }
      ]
    },
    {
      "cell_type": "markdown",
      "source": [
        "----내일 여기서부터 공부---- \n",
        "Run this cell a few times to see the random transform being applied 50% of the time."
      ],
      "metadata": {
        "id": "cdvjVPzr9e0G"
      }
    },
    {
      "cell_type": "code",
      "source": [
        "class RandAdditiveNoise(Randomizable, Transform):\n",
        "    def __init__(self, prob: float = 0.5, max_add: float = 1.0) -> None:\n",
        "        self.prob = np.clip(prob, 0.0, 1.0)\n",
        "        self.max_add = max_add\n",
        "        self._noise = 0\n",
        "\n",
        "    def randomize(self, data: np.ndarray) -> None:\n",
        "        self._noise = 0\n",
        "\n",
        "        if self.R.random() < self.prob:\n",
        "            noise_array = self.R.rand(*data.shape[1:])[None]\n",
        "            self._noise = (noise_array * self.max_add).astype(data.dtype)\n",
        "\n",
        "    def add_noise(self, img: np.ndarray) -> np.ndarray:\n",
        "        return img + self._noise\n",
        "\n",
        "    def __call__(self, img: np.ndarray) -> np.ndarray:\n",
        "        self.randomize(img)\n",
        "        return self.add_noise(img)\n",
        "\n",
        "trans = Compose([LoadImage(image_only=True), AddChannel(), RandAdditiveNoise()])\n",
        "img = trans(filenames[0][\"img\"])\n",
        "plt.imshow(img[0, 128])"
      ],
      "metadata": {
        "colab": {
          "base_uri": "https://localhost:8080/",
          "height": 241
        },
        "id": "Jv_xYEMc9W0h",
        "outputId": "4c8cb331-3abb-4d68-ef0e-503ed031005c"
      },
      "execution_count": 5,
      "outputs": [
        {
          "output_type": "error",
          "ename": "NameError",
          "evalue": "ignored",
          "traceback": [
            "\u001b[0;31m---------------------------------------------------------------------------\u001b[0m",
            "\u001b[0;31mNameError\u001b[0m                                 Traceback (most recent call last)",
            "\u001b[0;32m<ipython-input-5-2eff775eb753>\u001b[0m in \u001b[0;36m<module>\u001b[0;34m\u001b[0m\n\u001b[1;32m     20\u001b[0m \u001b[0;34m\u001b[0m\u001b[0m\n\u001b[1;32m     21\u001b[0m \u001b[0mtrans\u001b[0m \u001b[0;34m=\u001b[0m \u001b[0mCompose\u001b[0m\u001b[0;34m(\u001b[0m\u001b[0;34m[\u001b[0m\u001b[0mLoadImage\u001b[0m\u001b[0;34m(\u001b[0m\u001b[0mimage_only\u001b[0m\u001b[0;34m=\u001b[0m\u001b[0;32mTrue\u001b[0m\u001b[0;34m)\u001b[0m\u001b[0;34m,\u001b[0m \u001b[0mAddChannel\u001b[0m\u001b[0;34m(\u001b[0m\u001b[0;34m)\u001b[0m\u001b[0;34m,\u001b[0m \u001b[0mRandAdditiveNoise\u001b[0m\u001b[0;34m(\u001b[0m\u001b[0;34m)\u001b[0m\u001b[0;34m]\u001b[0m\u001b[0;34m)\u001b[0m\u001b[0;34m\u001b[0m\u001b[0;34m\u001b[0m\u001b[0m\n\u001b[0;32m---> 22\u001b[0;31m \u001b[0mimg\u001b[0m \u001b[0;34m=\u001b[0m \u001b[0mtrans\u001b[0m\u001b[0;34m(\u001b[0m\u001b[0mfilenames\u001b[0m\u001b[0;34m[\u001b[0m\u001b[0;36m0\u001b[0m\u001b[0;34m]\u001b[0m\u001b[0;34m[\u001b[0m\u001b[0;34m\"img\"\u001b[0m\u001b[0;34m]\u001b[0m\u001b[0;34m)\u001b[0m\u001b[0;34m\u001b[0m\u001b[0;34m\u001b[0m\u001b[0m\n\u001b[0m\u001b[1;32m     23\u001b[0m \u001b[0mplt\u001b[0m\u001b[0;34m.\u001b[0m\u001b[0mimshow\u001b[0m\u001b[0;34m(\u001b[0m\u001b[0mimg\u001b[0m\u001b[0;34m[\u001b[0m\u001b[0;36m0\u001b[0m\u001b[0;34m,\u001b[0m \u001b[0;36m128\u001b[0m\u001b[0;34m]\u001b[0m\u001b[0;34m)\u001b[0m\u001b[0;34m\u001b[0m\u001b[0;34m\u001b[0m\u001b[0m\n",
            "\u001b[0;31mNameError\u001b[0m: name 'filenames' is not defined"
          ]
        }
      ]
    },
    {
      "cell_type": "code",
      "source": [],
      "metadata": {
        "id": "mqHCIpRIeYuH"
      },
      "execution_count": null,
      "outputs": []
    }
  ]
}